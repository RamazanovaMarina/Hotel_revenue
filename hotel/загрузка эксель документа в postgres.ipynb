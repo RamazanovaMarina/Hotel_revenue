{
 "cells": [
  {
   "cell_type": "code",
   "execution_count": 12,
   "id": "16ac22bb",
   "metadata": {},
   "outputs": [],
   "source": [
    "import pandas as pd\n",
    "import psycopg2\n",
    "import psycopg2.extras"
   ]
  },
  {
   "cell_type": "code",
   "execution_count": 18,
   "id": "e11819f6",
   "metadata": {},
   "outputs": [
    {
     "name": "stdout",
     "output_type": "stream",
     "text": [
      "Requirement already satisfied: openpyxl in c:\\users\\life pc\\appdata\\local\\programs\\python\\python310\\lib\\site-packages (3.1.2)\n",
      "Requirement already satisfied: et-xmlfile in c:\\users\\life pc\\appdata\\local\\programs\\python\\python310\\lib\\site-packages (from openpyxl) (1.1.0)\n"
     ]
    },
    {
     "name": "stderr",
     "output_type": "stream",
     "text": [
      "\n",
      "[notice] A new release of pip is available: 23.0.1 -> 23.1.2\n",
      "[notice] To update, run: python.exe -m pip install --upgrade pip\n"
     ]
    }
   ],
   "source": [
    "!pip install  openpyxl"
   ]
  },
  {
   "cell_type": "code",
   "execution_count": 2,
   "id": "7d318216",
   "metadata": {},
   "outputs": [],
   "source": [
    "df2018 = pd.read_excel(open('hotel_revenue_historical_full-2.xlsx','rb'), sheet_name='2018' )\n",
    "df2019 = pd.read_excel(open('hotel_revenue_historical_full-2.xlsx','rb'), sheet_name='2019' )\n",
    "df2020 = pd.read_excel(open('hotel_revenue_historical_full-2.xlsx','rb'), sheet_name='2020' )\n",
    "df_meal_cost = pd.read_excel(open('hotel_revenue_historical_full-2.xlsx','rb'), sheet_name='meal_cost' )\n",
    "df_market_segment = pd.read_excel(open('hotel_revenue_historical_full-2.xlsx','rb'), sheet_name='market_segment')\n"
   ]
  },
  {
   "cell_type": "code",
   "execution_count": 26,
   "id": "c3729d8c",
   "metadata": {},
   "outputs": [
    {
     "data": {
      "text/plain": [
       "Index(['Discount', 'market_segment'], dtype='object')"
      ]
     },
     "execution_count": 26,
     "metadata": {},
     "output_type": "execute_result"
    }
   ],
   "source": [
    "df_market_segment.columns"
   ]
  },
  {
   "cell_type": "code",
   "execution_count": 17,
   "id": "1f46dc23",
   "metadata": {},
   "outputs": [
    {
     "data": {
      "text/plain": [
       "Index(['hotel', 'is_canceled', 'lead_time', 'arrival_date_year',\n",
       "       'arrival_date_month', 'arrival_date_week_number',\n",
       "       'arrival_date_day_of_month', 'stays_in_weekend_nights',\n",
       "       'stays_in_week_nights', 'adults', 'children', 'babies', 'meal',\n",
       "       'country', 'market_segment', 'distribution_channel',\n",
       "       'is_repeated_guest', 'previous_cancellations',\n",
       "       'previous_bookings_not_canceled', 'reserved_room_type',\n",
       "       'assigned_room_type', 'booking_changes', 'deposit_type', 'agent',\n",
       "       'company', 'days_in_waiting_list', 'customer_type', 'adr',\n",
       "       'required_car_parking_spaces', 'total_of_special_requests',\n",
       "       'reservation_status', 'reservation_status_date'],\n",
       "      dtype='object')"
      ]
     },
     "execution_count": 17,
     "metadata": {},
     "output_type": "execute_result"
    }
   ],
   "source": [
    "df2018.columns"
   ]
  },
  {
   "cell_type": "code",
   "execution_count": null,
   "id": "fdc4e752",
   "metadata": {},
   "outputs": [],
   "source": []
  },
  {
   "cell_type": "code",
   "execution_count": 24,
   "id": "ccb9305d",
   "metadata": {},
   "outputs": [],
   "source": [
    "\n",
    "with psycopg2.connect(host=\"localhost\",port =\"5432\",database=\"postgres\",user=\"postgres\",password=\"postgres\") as conn:\n",
    "    with conn.cursor() as cur:\n",
    "        sql = \"INSERT INTO hotel_revenue (hotel, is_canceled, lead_time, arrival_date_year,arrival_date_month, arrival_date_week_number,arrival_date_day_of_month, stays_in_weekend_nights,stays_in_week_nights, adults, children, babies, meal,country, market_segment, distribution_channel,is_repeated_guest, previous_cancellations,previous_bookings_not_canceled, reserved_room_type,assigned_room_type, booking_changes, deposit_type, agent,company, days_in_waiting_list, customer_type, adr,required_car_parking_spaces, total_of_special_requests,reservation_status, reservation_status_date) VALUES (%s,%s,%s,%s,%s,%s,%s,%s,%s,%s,%s,%s,%s,%s,%s,%s,%s,%s,%s,%s,%s,%s,%s,%s,%s,%s,%s,%s,%s,%s,%s,%s)\"\n",
    "        psycopg2.extras.execute_batch(cur, sql, df2018.values, 1000)\n",
    "        psycopg2.extras.execute_batch(cur, sql, df2019.values, 1000)\n",
    "        psycopg2.extras.execute_batch(cur, sql, df2020.values, 1000)\n",
    "        conn.commit()\n"
   ]
  },
  {
   "cell_type": "code",
   "execution_count": 28,
   "id": "230ea195",
   "metadata": {},
   "outputs": [],
   "source": [
    "with psycopg2.connect(host=\"localhost\",port =\"5432\",database=\"postgres\",user=\"postgres\",password=\"postgres\") as conn:\n",
    "    with conn.cursor() as cur:\n",
    "        sql = \"INSERT INTO meal_cost VALUES (%s,%s)\"\n",
    "        psycopg2.extras.execute_batch(cur, sql, df_meal_cost.values, 1000)\n",
    "        conn.commit()"
   ]
  },
  {
   "cell_type": "code",
   "execution_count": 30,
   "id": "a02b18e0",
   "metadata": {},
   "outputs": [],
   "source": [
    "with psycopg2.connect(host=\"localhost\",port =\"5432\",database=\"postgres\",user=\"postgres\",password=\"postgres\") as conn:\n",
    "    with conn.cursor() as cur:\n",
    "        sql = \"INSERT INTO market_segment VALUES (%s,%s)\"\n",
    "        psycopg2.extras.execute_batch(cur, sql, df_market_segment.values, 1000)\n",
    "        conn.commit()"
   ]
  }
 ],
 "metadata": {
  "kernelspec": {
   "display_name": "Python 3 (ipykernel)",
   "language": "python",
   "name": "python3"
  },
  "language_info": {
   "codemirror_mode": {
    "name": "ipython",
    "version": 3
   },
   "file_extension": ".py",
   "mimetype": "text/x-python",
   "name": "python",
   "nbconvert_exporter": "python",
   "pygments_lexer": "ipython3",
   "version": "3.10.11"
  }
 },
 "nbformat": 4,
 "nbformat_minor": 5
}
